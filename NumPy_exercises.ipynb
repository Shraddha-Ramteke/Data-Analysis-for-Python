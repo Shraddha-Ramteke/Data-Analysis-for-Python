{
  "nbformat": 4,
  "nbformat_minor": 0,
  "metadata": {
    "colab": {
      "name": "NumPy exercises.ipynb",
      "provenance": [],
      "authorship_tag": "ABX9TyOrobwv6HtAwSREnjsCjAi2",
      "include_colab_link": true
    },
    "kernelspec": {
      "name": "python3",
      "display_name": "Python 3"
    },
    "language_info": {
      "name": "python"
    }
  },
  "cells": [
    {
      "cell_type": "markdown",
      "metadata": {
        "id": "view-in-github",
        "colab_type": "text"
      },
      "source": [
        "<a href=\"https://colab.research.google.com/github/Shraddha-Ramteke/Data-Analysis-for-Python/blob/main/NumPy_exercises.ipynb\" target=\"_parent\"><img src=\"https://colab.research.google.com/assets/colab-badge.svg\" alt=\"Open In Colab\"/></a>"
      ]
    },
    {
      "cell_type": "markdown",
      "source": [
        "# **NumPy exercises**"
      ],
      "metadata": {
        "id": "6S1YALp-FiZV"
      }
    },
    {
      "cell_type": "code",
      "execution_count": 1,
      "metadata": {
        "colab": {
          "base_uri": "https://localhost:8080/"
        },
        "id": "Um9phf1IFUvz",
        "outputId": "26ece266-ffe1-488b-8c74-babb65ced35e"
      },
      "outputs": [
        {
          "output_type": "stream",
          "name": "stdout",
          "text": [
            "1.21.5\n"
          ]
        }
      ],
      "source": [
        "# Import the numpy package under the name np\n",
        "import numpy as np\n",
        "\n",
        "# Print the numpy version and the configuration\n",
        "print(np.__version__)"
      ]
    },
    {
      "cell_type": "markdown",
      "source": [
        "# Array creation\n",
        " Create a numpy array of size 10, filled with zeros."
      ],
      "metadata": {
        "id": "NiNjJTSAFtRr"
      }
    },
    {
      "cell_type": "code",
      "source": [
        "#np.array([0] * 10)\n",
        "np.zeros(10)"
      ],
      "metadata": {
        "colab": {
          "base_uri": "https://localhost:8080/"
        },
        "id": "IU7qLeLDFpxE",
        "outputId": "95392f98-7590-4692-fefc-58e6cecdce09"
      },
      "execution_count": 2,
      "outputs": [
        {
          "output_type": "execute_result",
          "data": {
            "text/plain": [
              "array([0., 0., 0., 0., 0., 0., 0., 0., 0., 0.])"
            ]
          },
          "metadata": {},
          "execution_count": 2
        }
      ]
    },
    {
      "cell_type": "markdown",
      "source": [
        "# Create a numpy array with values ranging from 10 to 49"
      ],
      "metadata": {
        "id": "EmnTrs4DGANm"
      }
    },
    {
      "cell_type": "code",
      "source": [
        "np.arange(10,50)"
      ],
      "metadata": {
        "colab": {
          "base_uri": "https://localhost:8080/"
        },
        "id": "Ru-dcqwmGCdg",
        "outputId": "94fc4ed6-b871-475c-83d2-c8e2c0f9d815"
      },
      "execution_count": 3,
      "outputs": [
        {
          "output_type": "execute_result",
          "data": {
            "text/plain": [
              "array([10, 11, 12, 13, 14, 15, 16, 17, 18, 19, 20, 21, 22, 23, 24, 25, 26,\n",
              "       27, 28, 29, 30, 31, 32, 33, 34, 35, 36, 37, 38, 39, 40, 41, 42, 43,\n",
              "       44, 45, 46, 47, 48, 49])"
            ]
          },
          "metadata": {},
          "execution_count": 3
        }
      ]
    },
    {
      "cell_type": "markdown",
      "source": [
        "# Given the X numpy array, create a new numpy array with the same shape and type as X, filled with ones."
      ],
      "metadata": {
        "id": "NUknLFjjGblo"
      }
    },
    {
      "cell_type": "code",
      "source": [
        "X = np.arange(4, dtype=np.int64)\n",
        "\n",
        "np.ones_like(X)"
      ],
      "metadata": {
        "colab": {
          "base_uri": "https://localhost:8080/"
        },
        "id": "LA9B84p2G-ru",
        "outputId": "ac2a5160-744f-4562-a617-ee93f61004c4"
      },
      "execution_count": 10,
      "outputs": [
        {
          "output_type": "execute_result",
          "data": {
            "text/plain": [
              "array([1, 1, 1, 1])"
            ]
          },
          "metadata": {},
          "execution_count": 10
        }
      ]
    },
    {
      "cell_type": "markdown",
      "source": [
        "# Given the X numpy matrix, create a new numpy matrix with the same shape and type as X, filled with zeros."
      ],
      "metadata": {
        "id": "EAXQTj4YGlMK"
      }
    },
    {
      "cell_type": "code",
      "source": [
        "X = np.array([[1,2,3], [4,5,6]], dtype=np.int64)\n",
        "\n",
        "np.zeros_like(X)"
      ],
      "metadata": {
        "colab": {
          "base_uri": "https://localhost:8080/"
        },
        "id": "6phvR5ygG50g",
        "outputId": "762a6b76-c41b-46f1-8113-80dc8b1bde82"
      },
      "execution_count": 9,
      "outputs": [
        {
          "output_type": "execute_result",
          "data": {
            "text/plain": [
              "array([[0, 0, 0],\n",
              "       [0, 0, 0]])"
            ]
          },
          "metadata": {},
          "execution_count": 9
        }
      ]
    },
    {
      "cell_type": "markdown",
      "source": [
        "#  Create a numpy matrix of 4*4 integers, filled with fives."
      ],
      "metadata": {
        "id": "fDk59h0DHP7O"
      }
    },
    {
      "cell_type": "code",
      "source": [
        "np.ones([4,4], dtype=np.int64) * 5"
      ],
      "metadata": {
        "colab": {
          "base_uri": "https://localhost:8080/"
        },
        "id": "QdTTvlZdHURn",
        "outputId": "d82ebd58-d942-439d-a866-39d7d9c841f1"
      },
      "execution_count": 13,
      "outputs": [
        {
          "output_type": "execute_result",
          "data": {
            "text/plain": [
              "array([[5, 5, 5, 5],\n",
              "       [5, 5, 5, 5],\n",
              "       [5, 5, 5, 5],\n",
              "       [5, 5, 5, 5]])"
            ]
          },
          "metadata": {},
          "execution_count": 13
        }
      ]
    },
    {
      "cell_type": "markdown",
      "source": [
        "#  Given the X numpy matrix, create a new numpy matrix with the same shape and type as X, filled with sevens.\n"
      ],
      "metadata": {
        "id": "c72xW_1QHYy6"
      }
    },
    {
      "cell_type": "code",
      "source": [
        "X = np.array([[2,3], [6,2]], dtype=np.int64)\n",
        "\n",
        "np.ones_like(X) * 7"
      ],
      "metadata": {
        "colab": {
          "base_uri": "https://localhost:8080/"
        },
        "id": "nXJwhhTKHfWn",
        "outputId": "22eeaef3-bda5-482b-9b2a-d995415990f4"
      },
      "execution_count": 14,
      "outputs": [
        {
          "output_type": "execute_result",
          "data": {
            "text/plain": [
              "array([[7, 7],\n",
              "       [7, 7]])"
            ]
          },
          "metadata": {},
          "execution_count": 14
        }
      ]
    },
    {
      "cell_type": "markdown",
      "source": [
        "# Create a 3*3 identity numpy matrix with ones on the diagonal and zeros elsewhere."
      ],
      "metadata": {
        "id": "ST8Ph9wJHlQb"
      }
    },
    {
      "cell_type": "code",
      "source": [
        "#np.eye(3)\n",
        "np.identity(3)"
      ],
      "metadata": {
        "colab": {
          "base_uri": "https://localhost:8080/"
        },
        "id": "oeWrKcL7Hpp-",
        "outputId": "fb229378-5507-42a4-e5c0-d007393a8ee6"
      },
      "execution_count": 15,
      "outputs": [
        {
          "output_type": "execute_result",
          "data": {
            "text/plain": [
              "array([[1., 0., 0.],\n",
              "       [0., 1., 0.],\n",
              "       [0., 0., 1.]])"
            ]
          },
          "metadata": {},
          "execution_count": 15
        }
      ]
    },
    {
      "cell_type": "markdown",
      "source": [
        "# Create a numpy array, filled with 3 random integer values between 1 and 10."
      ],
      "metadata": {
        "id": "x9Oc_bqkHtHu"
      }
    },
    {
      "cell_type": "code",
      "source": [
        "np.random.randint(10, size=3)"
      ],
      "metadata": {
        "colab": {
          "base_uri": "https://localhost:8080/"
        },
        "id": "QQj1AoHfHuax",
        "outputId": "197a877a-0a35-4ca4-d10d-b494717fffc0"
      },
      "execution_count": 16,
      "outputs": [
        {
          "output_type": "execute_result",
          "data": {
            "text/plain": [
              "array([9, 1, 9])"
            ]
          },
          "metadata": {},
          "execution_count": 16
        }
      ]
    },
    {
      "cell_type": "markdown",
      "source": [
        "# Create a 3*3*3 numpy matrix, filled with random float values."
      ],
      "metadata": {
        "id": "W6-HcOKXHzJa"
      }
    },
    {
      "cell_type": "code",
      "source": [
        "#np.random.random((3,3,3)) \n",
        "np.random.randn(3,3,3) # 0 to 1 floats"
      ],
      "metadata": {
        "colab": {
          "base_uri": "https://localhost:8080/"
        },
        "id": "FLI3mgoUH0_F",
        "outputId": "14b1b7af-7784-4cf0-e784-1941cf814458"
      },
      "execution_count": 17,
      "outputs": [
        {
          "output_type": "execute_result",
          "data": {
            "text/plain": [
              "array([[[ 1.12762716, -0.4786659 , -0.35678082],\n",
              "        [ 0.18959704,  0.42145628, -0.10493037],\n",
              "        [ 2.40618812, -0.8570326 , -2.15069122]],\n",
              "\n",
              "       [[-0.02249214,  0.36079879, -0.19506206],\n",
              "        [-1.80825477, -0.86693217,  0.39135301],\n",
              "        [-0.20930554,  0.20387663, -0.68397372]],\n",
              "\n",
              "       [[-1.25951506,  1.92898534,  0.4644764 ],\n",
              "        [-1.25375712,  0.99829957,  1.16226636],\n",
              "        [-0.0121893 ,  0.83570033, -0.26739493]]])"
            ]
          },
          "metadata": {},
          "execution_count": 17
        }
      ]
    },
    {
      "cell_type": "markdown",
      "source": [
        "# Given the X python list convert it to an Y numpy array"
      ],
      "metadata": {
        "id": "MOBDP4l0H6xM"
      }
    },
    {
      "cell_type": "code",
      "source": [
        "X = [1, 2, 3]\n",
        "print(X, type(X))\n",
        "\n",
        "Y = np.array(X)\n",
        "print(Y, type(Y)) # different type"
      ],
      "metadata": {
        "colab": {
          "base_uri": "https://localhost:8080/"
        },
        "id": "j1gAzWsQH6c1",
        "outputId": "48133379-b622-4ec8-b9bd-d48e081c4189"
      },
      "execution_count": 18,
      "outputs": [
        {
          "output_type": "stream",
          "name": "stdout",
          "text": [
            "[1, 2, 3] <class 'list'>\n",
            "[1 2 3] <class 'numpy.ndarray'>\n"
          ]
        }
      ]
    },
    {
      "cell_type": "markdown",
      "source": [
        "# Given the X numpy array, make a copy and store it on Y."
      ],
      "metadata": {
        "id": "Z1WriSKNIAVE"
      }
    },
    {
      "cell_type": "code",
      "source": [
        "X = np.array([5,2,3], dtype=np.int64)\n",
        "print(X, id(X))\n",
        "\n",
        "Y = np.copy(X)\n",
        "print(Y, id(Y)) # different id"
      ],
      "metadata": {
        "colab": {
          "base_uri": "https://localhost:8080/"
        },
        "id": "ADVaQQ-1IEac",
        "outputId": "282364a4-0015-4f7c-a6d8-3ee7c35c8754"
      },
      "execution_count": 19,
      "outputs": [
        {
          "output_type": "stream",
          "name": "stdout",
          "text": [
            "[5 2 3] 139661750144336\n",
            "[5 2 3] 139661750144720\n"
          ]
        }
      ]
    },
    {
      "cell_type": "markdown",
      "source": [
        "# Create a numpy array with numbers from 1 to 10"
      ],
      "metadata": {
        "id": "O6CL59fLIKBW"
      }
    },
    {
      "cell_type": "code",
      "source": [
        "np.arange(1, 11)"
      ],
      "metadata": {
        "colab": {
          "base_uri": "https://localhost:8080/"
        },
        "id": "zxTUOGNDIL1a",
        "outputId": "f583a91b-57a7-4789-a85a-8f37cf398f7e"
      },
      "execution_count": 20,
      "outputs": [
        {
          "output_type": "execute_result",
          "data": {
            "text/plain": [
              "array([ 1,  2,  3,  4,  5,  6,  7,  8,  9, 10])"
            ]
          },
          "metadata": {},
          "execution_count": 20
        }
      ]
    },
    {
      "cell_type": "markdown",
      "source": [
        "# Create a numpy array with the odd numbers between 1 to 10"
      ],
      "metadata": {
        "id": "nZ25-HIkIRBf"
      }
    },
    {
      "cell_type": "code",
      "source": [
        "np.arange(1, 11, 2)"
      ],
      "metadata": {
        "colab": {
          "base_uri": "https://localhost:8080/"
        },
        "id": "MITbcFPhISVV",
        "outputId": "1122e078-3d27-46ee-da3f-5aace1ef8baa"
      },
      "execution_count": 21,
      "outputs": [
        {
          "output_type": "execute_result",
          "data": {
            "text/plain": [
              "array([1, 3, 5, 7, 9])"
            ]
          },
          "metadata": {},
          "execution_count": 21
        }
      ]
    },
    {
      "cell_type": "markdown",
      "source": [
        "# Create a numpy array with numbers from 1 to 10, in descending order."
      ],
      "metadata": {
        "id": "lQu77nNfIWtk"
      }
    },
    {
      "cell_type": "code",
      "source": [
        "np.arange(1, 11)[::-1]"
      ],
      "metadata": {
        "colab": {
          "base_uri": "https://localhost:8080/"
        },
        "id": "URjVsnBiIXzQ",
        "outputId": "5609d908-a2ed-4fd6-e8d4-2cfa18fdf392"
      },
      "execution_count": 22,
      "outputs": [
        {
          "output_type": "execute_result",
          "data": {
            "text/plain": [
              "array([10,  9,  8,  7,  6,  5,  4,  3,  2,  1])"
            ]
          },
          "metadata": {},
          "execution_count": 22
        }
      ]
    },
    {
      "cell_type": "markdown",
      "source": [
        "# Create a 3*3 numpy matrix, filled with values ranging from 0 to 8"
      ],
      "metadata": {
        "id": "16psqPCzIdF4"
      }
    },
    {
      "cell_type": "code",
      "source": [
        "np.arange(9).reshape(3,3)"
      ],
      "metadata": {
        "colab": {
          "base_uri": "https://localhost:8080/"
        },
        "id": "7oKSCz60Ie0h",
        "outputId": "f7f227a1-5856-41ec-dd13-3570343419fd"
      },
      "execution_count": 23,
      "outputs": [
        {
          "output_type": "execute_result",
          "data": {
            "text/plain": [
              "array([[0, 1, 2],\n",
              "       [3, 4, 5],\n",
              "       [6, 7, 8]])"
            ]
          },
          "metadata": {},
          "execution_count": 23
        }
      ]
    },
    {
      "cell_type": "markdown",
      "source": [
        "# Show the memory size of the given Z numpy matrix"
      ],
      "metadata": {
        "id": "MEty8sEOIjGH"
      }
    },
    {
      "cell_type": "code",
      "source": [
        "Z = np.zeros((10,10))\n",
        "\n",
        "print(\"%d bytes\" % (Z.size * Z.itemsize))"
      ],
      "metadata": {
        "colab": {
          "base_uri": "https://localhost:8080/"
        },
        "id": "NAobWqSiIkjR",
        "outputId": "f56d5865-d55b-45d2-dad2-a1b26a30ea03"
      },
      "execution_count": 24,
      "outputs": [
        {
          "output_type": "stream",
          "name": "stdout",
          "text": [
            "800 bytes\n"
          ]
        }
      ]
    },
    {
      "cell_type": "markdown",
      "source": [
        "# Array indexation\n",
        " Given the X numpy array, show it's first element\n"
      ],
      "metadata": {
        "id": "Mtc_pxibIq9T"
      }
    },
    {
      "cell_type": "code",
      "source": [
        "X = np.array(['A','B','C','D','E'])\n",
        "\n",
        "X[0]"
      ],
      "metadata": {
        "colab": {
          "base_uri": "https://localhost:8080/",
          "height": 35
        },
        "id": "npc6GgFMIt8z",
        "outputId": "d372d6f2-9711-414f-d64e-b7f578145961"
      },
      "execution_count": 25,
      "outputs": [
        {
          "output_type": "execute_result",
          "data": {
            "text/plain": [
              "'A'"
            ],
            "application/vnd.google.colaboratory.intrinsic+json": {
              "type": "string"
            }
          },
          "metadata": {},
          "execution_count": 25
        }
      ]
    },
    {
      "cell_type": "markdown",
      "source": [
        "# Given the X numpy array, show it's last element"
      ],
      "metadata": {
        "id": "-_qJzr3WIzb4"
      }
    },
    {
      "cell_type": "code",
      "source": [
        "X = np.array(['A','B','C','D','E'])\n",
        "\n",
        "#X[len(X)-1]\n",
        "X[-1]"
      ],
      "metadata": {
        "colab": {
          "base_uri": "https://localhost:8080/",
          "height": 35
        },
        "id": "cPWSVpOxI0ua",
        "outputId": "a864c246-7619-45d8-e8bf-a8b42dea0469"
      },
      "execution_count": 26,
      "outputs": [
        {
          "output_type": "execute_result",
          "data": {
            "text/plain": [
              "'E'"
            ],
            "application/vnd.google.colaboratory.intrinsic+json": {
              "type": "string"
            }
          },
          "metadata": {},
          "execution_count": 26
        }
      ]
    },
    {
      "cell_type": "markdown",
      "source": [
        "# Given the X numpy array, show it's first three elements"
      ],
      "metadata": {
        "id": "9cA08PYMI63O"
      }
    },
    {
      "cell_type": "code",
      "source": [
        "X = np.array(['A','B','C','D','E'])\n",
        "\n",
        "X[0:3] # remember! elements start at zero index"
      ],
      "metadata": {
        "colab": {
          "base_uri": "https://localhost:8080/"
        },
        "id": "f6Hfwkx2I8ED",
        "outputId": "03dd2bdb-55bd-40fc-c7b1-d083713cee15"
      },
      "execution_count": 27,
      "outputs": [
        {
          "output_type": "execute_result",
          "data": {
            "text/plain": [
              "array(['A', 'B', 'C'], dtype='<U1')"
            ]
          },
          "metadata": {},
          "execution_count": 27
        }
      ]
    },
    {
      "cell_type": "markdown",
      "source": [
        "# Given the X numpy array, show all middle elements"
      ],
      "metadata": {
        "id": "wOb8plrkJALk"
      }
    },
    {
      "cell_type": "code",
      "source": [
        "X = np.array(['A','B','C','D','E'])\n",
        "\n",
        "X[1:-1]"
      ],
      "metadata": {
        "colab": {
          "base_uri": "https://localhost:8080/"
        },
        "id": "dd7Z2HuzJDWO",
        "outputId": "acf86214-247f-4183-a765-b51897573bdb"
      },
      "execution_count": 28,
      "outputs": [
        {
          "output_type": "execute_result",
          "data": {
            "text/plain": [
              "array(['B', 'C', 'D'], dtype='<U1')"
            ]
          },
          "metadata": {},
          "execution_count": 28
        }
      ]
    },
    {
      "cell_type": "markdown",
      "source": [
        "# Given the X numpy array, show the elements in reverse position"
      ],
      "metadata": {
        "id": "G8DdrRaPJIrB"
      }
    },
    {
      "cell_type": "code",
      "source": [
        "X = np.array(['A','B','C','D','E'])\n",
        "\n",
        "X[::-1]"
      ],
      "metadata": {
        "colab": {
          "base_uri": "https://localhost:8080/"
        },
        "id": "Hf68xG6hJKdd",
        "outputId": "98ade789-4da9-4be4-8604-1549fe3e4fc7"
      },
      "execution_count": 29,
      "outputs": [
        {
          "output_type": "execute_result",
          "data": {
            "text/plain": [
              "array(['E', 'D', 'C', 'B', 'A'], dtype='<U1')"
            ]
          },
          "metadata": {},
          "execution_count": 29
        }
      ]
    },
    {
      "cell_type": "markdown",
      "source": [
        "# Given the X numpy array, show the elements in an odd position"
      ],
      "metadata": {
        "id": "VnGAxPh6JQKb"
      }
    },
    {
      "cell_type": "code",
      "source": [
        "X = np.array(['A','B','C','D','E'])\n",
        "\n",
        "#X[[0, 2, -1]]\n",
        "X[::2]"
      ],
      "metadata": {
        "colab": {
          "base_uri": "https://localhost:8080/"
        },
        "id": "yd7f1599JRKl",
        "outputId": "b83449f5-ef89-4c31-d9c5-3e132bafe404"
      },
      "execution_count": 30,
      "outputs": [
        {
          "output_type": "execute_result",
          "data": {
            "text/plain": [
              "array(['A', 'C', 'E'], dtype='<U1')"
            ]
          },
          "metadata": {},
          "execution_count": 30
        }
      ]
    },
    {
      "cell_type": "markdown",
      "source": [
        "# Given the X numpy matrix, show the first row elements"
      ],
      "metadata": {
        "id": "EoZE1u18JWhe"
      }
    },
    {
      "cell_type": "code",
      "source": [
        "X = np.array([\n",
        "    [1,   2,  3,  4],\n",
        "    [5,   6,  7,  8],\n",
        "    [9,  10, 11, 12],\n",
        "    [13, 14, 15, 16]\n",
        "])\n",
        "\n",
        "X[0]"
      ],
      "metadata": {
        "colab": {
          "base_uri": "https://localhost:8080/"
        },
        "id": "Vcsdrit-JXjX",
        "outputId": "99fe29df-c63e-4a20-9615-0883b689516c"
      },
      "execution_count": 31,
      "outputs": [
        {
          "output_type": "execute_result",
          "data": {
            "text/plain": [
              "array([1, 2, 3, 4])"
            ]
          },
          "metadata": {},
          "execution_count": 31
        }
      ]
    },
    {
      "cell_type": "markdown",
      "source": [
        "# Given the X numpy matrix, show the last row elements"
      ],
      "metadata": {
        "id": "QaSQZJBxJcVr"
      }
    },
    {
      "cell_type": "code",
      "source": [
        "X = np.array([\n",
        "    [1,   2,  3,  4],\n",
        "    [5,   6,  7,  8],\n",
        "    [9,  10, 11, 12],\n",
        "    [13, 14, 15, 16]\n",
        "])\n",
        "\n",
        "X[-1]"
      ],
      "metadata": {
        "colab": {
          "base_uri": "https://localhost:8080/"
        },
        "id": "xkcWCLeEJebj",
        "outputId": "5fbf7511-d565-4169-8479-f1735ff6d6cc"
      },
      "execution_count": 32,
      "outputs": [
        {
          "output_type": "execute_result",
          "data": {
            "text/plain": [
              "array([13, 14, 15, 16])"
            ]
          },
          "metadata": {},
          "execution_count": 32
        }
      ]
    },
    {
      "cell_type": "markdown",
      "source": [
        "# Given the X numpy matrix, show the first element on first row"
      ],
      "metadata": {
        "id": "tnGp0TrJJo_6"
      }
    },
    {
      "cell_type": "code",
      "source": [
        "X = np.array([\n",
        "    [1,   2,  3,  4],\n",
        "    [5,   6,  7,  8],\n",
        "    [9,  10, 11, 12],\n",
        "    [13, 14, 15, 16]\n",
        "])\n",
        "\n",
        "#X[0][0]\n",
        "X[0, 0]"
      ],
      "metadata": {
        "colab": {
          "base_uri": "https://localhost:8080/"
        },
        "id": "ho8V4HqJJqHr",
        "outputId": "47cf01a0-00be-441b-dec2-da81696979fc"
      },
      "execution_count": 33,
      "outputs": [
        {
          "output_type": "execute_result",
          "data": {
            "text/plain": [
              "1"
            ]
          },
          "metadata": {},
          "execution_count": 33
        }
      ]
    },
    {
      "cell_type": "markdown",
      "source": [
        "# Given the X numpy matrix, show the last element on last row"
      ],
      "metadata": {
        "id": "yoSIcSU3JxXp"
      }
    },
    {
      "cell_type": "code",
      "source": [
        "X = np.array([\n",
        "    [1,   2,  3,  4],\n",
        "    [5,   6,  7,  8],\n",
        "    [9,  10, 11, 12],\n",
        "    [13, 14, 15, 16]\n",
        "])\n",
        "\n",
        "#X[-1][-1]\n",
        "X[-1, -1]"
      ],
      "metadata": {
        "colab": {
          "base_uri": "https://localhost:8080/"
        },
        "id": "dTy03EkHJyyd",
        "outputId": "49c3b08f-e196-495c-dfc7-be4bcd84e1c9"
      },
      "execution_count": 34,
      "outputs": [
        {
          "output_type": "execute_result",
          "data": {
            "text/plain": [
              "16"
            ]
          },
          "metadata": {},
          "execution_count": 34
        }
      ]
    },
    {
      "cell_type": "markdown",
      "source": [
        "# Array manipulation\n",
        "Convert the given integer numpy array to float"
      ],
      "metadata": {
        "id": "2DU7DHfNJ78Y"
      }
    },
    {
      "cell_type": "code",
      "source": [
        "X = [-5, -3, 0, 10, 40]\n",
        "\n",
        "np.array(X, np.float64)"
      ],
      "metadata": {
        "colab": {
          "base_uri": "https://localhost:8080/"
        },
        "id": "nECu4eTFJ-E7",
        "outputId": "aaba41c0-862a-43ea-e2ab-96a724bcd5ed"
      },
      "execution_count": 35,
      "outputs": [
        {
          "output_type": "execute_result",
          "data": {
            "text/plain": [
              "array([-5., -3.,  0., 10., 40.])"
            ]
          },
          "metadata": {},
          "execution_count": 35
        }
      ]
    },
    {
      "cell_type": "markdown",
      "source": [
        "# Reverse the given numpy array (first element becomes last)"
      ],
      "metadata": {
        "id": "WYnywm6rKC-y"
      }
    },
    {
      "cell_type": "code",
      "source": [
        "X = [-5, -3, 0, 10, 40]\n",
        "\n",
        "X[::-1]"
      ],
      "metadata": {
        "colab": {
          "base_uri": "https://localhost:8080/"
        },
        "id": "2laxfFpJKGZb",
        "outputId": "25caab0b-896d-47b4-bed3-0d60220f9cec"
      },
      "execution_count": 36,
      "outputs": [
        {
          "output_type": "execute_result",
          "data": {
            "text/plain": [
              "[40, 10, 0, -3, -5]"
            ]
          },
          "metadata": {},
          "execution_count": 36
        }
      ]
    },
    {
      "cell_type": "markdown",
      "source": [
        "# Order (sort) the given numpy array"
      ],
      "metadata": {
        "id": "ZFWxi2SUKKgc"
      }
    },
    {
      "cell_type": "code",
      "source": [
        "X = [0, 10, -5, 40, -3]\n",
        "\n",
        "X.sort()\n",
        "X"
      ],
      "metadata": {
        "colab": {
          "base_uri": "https://localhost:8080/"
        },
        "id": "kQ_6BbrtKNMx",
        "outputId": "60c1ae0c-6ee2-4ba8-d098-3c9deb788322"
      },
      "execution_count": 37,
      "outputs": [
        {
          "output_type": "execute_result",
          "data": {
            "text/plain": [
              "[-5, -3, 0, 10, 40]"
            ]
          },
          "metadata": {},
          "execution_count": 37
        }
      ]
    },
    {
      "cell_type": "markdown",
      "source": [
        "# Given the X numpy array, set the fifth element equal to 1"
      ],
      "metadata": {
        "id": "-m8_TqBXKSqu"
      }
    },
    {
      "cell_type": "code",
      "source": [
        "X = np.zeros(10)\n",
        "\n",
        "X[4] = 1\n",
        "X"
      ],
      "metadata": {
        "colab": {
          "base_uri": "https://localhost:8080/"
        },
        "id": "fNBJK7RrKTkf",
        "outputId": "1bfc8f50-dd7a-4f72-9cee-3d1cfd610b79"
      },
      "execution_count": 38,
      "outputs": [
        {
          "output_type": "execute_result",
          "data": {
            "text/plain": [
              "array([0., 0., 0., 0., 1., 0., 0., 0., 0., 0.])"
            ]
          },
          "metadata": {},
          "execution_count": 38
        }
      ]
    },
    {
      "cell_type": "markdown",
      "source": [
        "# Given the X numpy array, change the 50 with a 40"
      ],
      "metadata": {
        "id": "IBVktkSdKXex"
      }
    },
    {
      "cell_type": "code",
      "source": [
        "X = np.array([10, 20, 30, 50])\n",
        "\n",
        "X[3] = 40\n",
        "X"
      ],
      "metadata": {
        "colab": {
          "base_uri": "https://localhost:8080/"
        },
        "id": "qC-aY6a4KZMH",
        "outputId": "005ee3a1-e7f6-4515-dcae-53a7b1250317"
      },
      "execution_count": 39,
      "outputs": [
        {
          "output_type": "execute_result",
          "data": {
            "text/plain": [
              "array([10, 20, 30, 40])"
            ]
          },
          "metadata": {},
          "execution_count": 39
        }
      ]
    },
    {
      "cell_type": "markdown",
      "source": [
        "# Given the X numpy matrix, change the last row with all 1"
      ],
      "metadata": {
        "id": "W9Bfi-RdKeyi"
      }
    },
    {
      "cell_type": "code",
      "source": [
        "X = np.array([\n",
        "    [1,   2,  3,  4],\n",
        "    [5,   6,  7,  8],\n",
        "    [9,  10, 11, 12],\n",
        "    [13, 14, 15, 16]\n",
        "])\n",
        "\n",
        "X[-1] = np.array([1, 1, 1, 1])\n",
        "X"
      ],
      "metadata": {
        "colab": {
          "base_uri": "https://localhost:8080/"
        },
        "id": "56tkUwCXKfwR",
        "outputId": "b5b6790c-a3a2-4d55-dc7b-bdce4d6c253c"
      },
      "execution_count": 40,
      "outputs": [
        {
          "output_type": "execute_result",
          "data": {
            "text/plain": [
              "array([[ 1,  2,  3,  4],\n",
              "       [ 5,  6,  7,  8],\n",
              "       [ 9, 10, 11, 12],\n",
              "       [ 1,  1,  1,  1]])"
            ]
          },
          "metadata": {},
          "execution_count": 40
        }
      ]
    },
    {
      "cell_type": "markdown",
      "source": [
        "# Given the X numpy matrix, change the last item on the last row with a 0"
      ],
      "metadata": {
        "id": "hDVRUt2uKlC2"
      }
    },
    {
      "cell_type": "code",
      "source": [
        "X = np.array([\n",
        "    [1,   2,  3,  4],\n",
        "    [5,   6,  7,  8],\n",
        "    [9,  10, 11, 12],\n",
        "    [13, 14, 15, 16]\n",
        "])\n",
        "\n",
        "X[-1, -1] = 0\n",
        "X"
      ],
      "metadata": {
        "colab": {
          "base_uri": "https://localhost:8080/"
        },
        "id": "hKrYTRyLKmFD",
        "outputId": "677aa078-2177-43d1-c179-d0c05305919e"
      },
      "execution_count": 41,
      "outputs": [
        {
          "output_type": "execute_result",
          "data": {
            "text/plain": [
              "array([[ 1,  2,  3,  4],\n",
              "       [ 5,  6,  7,  8],\n",
              "       [ 9, 10, 11, 12],\n",
              "       [13, 14, 15,  0]])"
            ]
          },
          "metadata": {},
          "execution_count": 41
        }
      ]
    },
    {
      "cell_type": "markdown",
      "source": [
        "# Boolean arrays (also called masks)\n",
        "Given the X numpy array, make a mask showing negative elements"
      ],
      "metadata": {
        "id": "alvptW8iKtWe"
      }
    },
    {
      "cell_type": "code",
      "source": [
        "X = np.array([-1,2,0,-4,5,6,0,0,-9,10])\n",
        "\n",
        "mask = X <= 0\n",
        "mask"
      ],
      "metadata": {
        "colab": {
          "base_uri": "https://localhost:8080/"
        },
        "id": "0AKc1n9EKuXB",
        "outputId": "65c75fc3-ffc9-4652-c044-8c5fec602e59"
      },
      "execution_count": 42,
      "outputs": [
        {
          "output_type": "execute_result",
          "data": {
            "text/plain": [
              "array([ True, False,  True,  True, False, False,  True,  True,  True,\n",
              "       False])"
            ]
          },
          "metadata": {},
          "execution_count": 42
        }
      ]
    },
    {
      "cell_type": "markdown",
      "source": [
        "# Given the X numpy array, get the negative elements"
      ],
      "metadata": {
        "id": "HQZyti6PKySJ"
      }
    },
    {
      "cell_type": "code",
      "source": [
        "X = np.array([-1, 2, 0, -4, 5, 6, 0, 0, -9, 10])\n",
        "\n",
        "mask = X <= 0\n",
        "X[mask]"
      ],
      "metadata": {
        "colab": {
          "base_uri": "https://localhost:8080/"
        },
        "id": "6XTlk4y6K01O",
        "outputId": "45bfa6a1-6d41-414a-c596-37e4c0e659c5"
      },
      "execution_count": 43,
      "outputs": [
        {
          "output_type": "execute_result",
          "data": {
            "text/plain": [
              "array([-1,  0, -4,  0,  0, -9])"
            ]
          },
          "metadata": {},
          "execution_count": 43
        }
      ]
    },
    {
      "cell_type": "markdown",
      "source": [
        "# Given the X numpy array, get numbers higher than 5"
      ],
      "metadata": {
        "id": "0wlMx6HfK5kF"
      }
    },
    {
      "cell_type": "code",
      "source": [
        "X = np.array([-1, 2, 0, -4, 5, 6, 0, 0, -9, 10])\n",
        "\n",
        "mask = X > 5\n",
        "X[mask]"
      ],
      "metadata": {
        "colab": {
          "base_uri": "https://localhost:8080/"
        },
        "id": "l4VRIT5tK6pp",
        "outputId": "5a1a0fe8-14fa-467f-c3f3-0bc8eab6fa86"
      },
      "execution_count": 44,
      "outputs": [
        {
          "output_type": "execute_result",
          "data": {
            "text/plain": [
              "array([ 6, 10])"
            ]
          },
          "metadata": {},
          "execution_count": 44
        }
      ]
    },
    {
      "cell_type": "markdown",
      "source": [
        "# Logic functions\n",
        "Given the X numpy array, return True if none of its elements is zero"
      ],
      "metadata": {
        "id": "kbQcDS8CLCDW"
      }
    },
    {
      "cell_type": "code",
      "source": [
        "X = np.array([-1, 2, 0, -4, 5, 6, 0, 0, -9, 10])\n",
        "\n",
        "X.all()"
      ],
      "metadata": {
        "colab": {
          "base_uri": "https://localhost:8080/"
        },
        "id": "DcCdgNqBLD5P",
        "outputId": "111af023-bb11-473c-d6de-bbd276b11cb8"
      },
      "execution_count": 45,
      "outputs": [
        {
          "output_type": "execute_result",
          "data": {
            "text/plain": [
              "False"
            ]
          },
          "metadata": {},
          "execution_count": 45
        }
      ]
    },
    {
      "cell_type": "markdown",
      "source": [
        "# Given the X numpy array, return True if any of its elements is zero"
      ],
      "metadata": {
        "id": "45s-uiNfLH9W"
      }
    },
    {
      "cell_type": "code",
      "source": [
        "X = np.array([-1, 2, 0, -4, 5, 6, 0, 0, -9, 10])\n",
        "\n",
        "X.any()"
      ],
      "metadata": {
        "colab": {
          "base_uri": "https://localhost:8080/"
        },
        "id": "cynVJnkbLJEu",
        "outputId": "690615f3-8a91-45e7-e408-bb6ca738f389"
      },
      "execution_count": 46,
      "outputs": [
        {
          "output_type": "execute_result",
          "data": {
            "text/plain": [
              "True"
            ]
          },
          "metadata": {},
          "execution_count": 46
        }
      ]
    }
  ]
}