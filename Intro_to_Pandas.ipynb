{
  "nbformat": 4,
  "nbformat_minor": 0,
  "metadata": {
    "colab": {
      "name": "Intro to Pandas.ipynb",
      "provenance": [],
      "authorship_tag": "ABX9TyMUE1eae0iXnd7e2RQ+s4Vd",
      "include_colab_link": true
    },
    "kernelspec": {
      "name": "python3",
      "display_name": "Python 3"
    },
    "language_info": {
      "name": "python"
    }
  },
  "cells": [
    {
      "cell_type": "markdown",
      "metadata": {
        "id": "view-in-github",
        "colab_type": "text"
      },
      "source": [
        "<a href=\"https://colab.research.google.com/github/Shraddha-Ramteke/Data-Analysis-for-Python/blob/main/Intro_to_Pandas.ipynb\" target=\"_parent\"><img src=\"https://colab.research.google.com/assets/colab-badge.svg\" alt=\"Open In Colab\"/></a>"
      ]
    },
    {
      "cell_type": "markdown",
      "source": [
        "#**Pandas - Series**\n",
        "\n",
        "\n",
        "\n",
        "---\n",
        "\n"
      ],
      "metadata": {
        "id": "u-m4MH_oMOLv"
      }
    },
    {
      "cell_type": "markdown",
      "source": [
        "# Hands on!"
      ],
      "metadata": {
        "id": "dSr3gErCMXjk"
      }
    },
    {
      "cell_type": "code",
      "execution_count": 1,
      "metadata": {
        "id": "GhfIru_kL6Kz"
      },
      "outputs": [],
      "source": [
        "import pandas as pd\n",
        "import numpy as np"
      ]
    },
    {
      "cell_type": "markdown",
      "source": [
        "# Pandas Series\n",
        "We'll start analyzing \"The Group of Seven\". Which is a political formed by Canada, France, Germany, Italy, Japan, the United Kingdom and the United States. We'll start by analyzing population, and for that, we'll use a pandas.Series object."
      ],
      "metadata": {
        "id": "Q5c2T2oAMfda"
      }
    },
    {
      "cell_type": "code",
      "source": [
        "# In millions\n",
        "g7_pop = pd.Series([35.467, 63.951, 80.940, 60.665, 127.061, 64.511, 318.523])"
      ],
      "metadata": {
        "id": "ooXzqNc9M7m2"
      },
      "execution_count": 2,
      "outputs": []
    },
    {
      "cell_type": "code",
      "source": [
        "g7_pop"
      ],
      "metadata": {
        "colab": {
          "base_uri": "https://localhost:8080/"
        },
        "id": "RECO4yQsM_Po",
        "outputId": "9b0e26d3-4ea3-4312-d06d-79bd6d4477ce"
      },
      "execution_count": 3,
      "outputs": [
        {
          "output_type": "execute_result",
          "data": {
            "text/plain": [
              "0     35.467\n",
              "1     63.951\n",
              "2     80.940\n",
              "3     60.665\n",
              "4    127.061\n",
              "5     64.511\n",
              "6    318.523\n",
              "dtype: float64"
            ]
          },
          "metadata": {},
          "execution_count": 3
        }
      ]
    },
    {
      "cell_type": "markdown",
      "source": [
        "# Someone might not know we're representing population in millions of inhabitants. Series can have a name, to better document the purpose of the Series:\n",
        "\n"
      ],
      "metadata": {
        "id": "JbBfGvHeNEu8"
      }
    },
    {
      "cell_type": "code",
      "source": [
        "g7_pop.name = 'G7 Population in millions'\n",
        "g7_pop"
      ],
      "metadata": {
        "colab": {
          "base_uri": "https://localhost:8080/"
        },
        "id": "MManj_2RNGDm",
        "outputId": "5733a804-df06-47eb-8ae1-e16cd946ffbb"
      },
      "execution_count": 4,
      "outputs": [
        {
          "output_type": "execute_result",
          "data": {
            "text/plain": [
              "0     35.467\n",
              "1     63.951\n",
              "2     80.940\n",
              "3     60.665\n",
              "4    127.061\n",
              "5     64.511\n",
              "6    318.523\n",
              "Name: G7 Population in millions, dtype: float64"
            ]
          },
          "metadata": {},
          "execution_count": 4
        }
      ]
    },
    {
      "cell_type": "markdown",
      "source": [
        "# Series are pretty similar to numpy arrays:"
      ],
      "metadata": {
        "id": "P-7KU7Y1NOk8"
      }
    },
    {
      "cell_type": "code",
      "source": [
        "g7_pop.dtype"
      ],
      "metadata": {
        "colab": {
          "base_uri": "https://localhost:8080/"
        },
        "id": "ytmFRVGxNQlY",
        "outputId": "792b6b42-17b6-406c-f818-3d9b16d17fc3"
      },
      "execution_count": 5,
      "outputs": [
        {
          "output_type": "execute_result",
          "data": {
            "text/plain": [
              "dtype('float64')"
            ]
          },
          "metadata": {},
          "execution_count": 5
        }
      ]
    },
    {
      "cell_type": "code",
      "source": [
        "g7_pop.values"
      ],
      "metadata": {
        "colab": {
          "base_uri": "https://localhost:8080/"
        },
        "id": "7gOpq_4zNU7G",
        "outputId": "119851e2-e00f-4b6b-b21e-06c81131c49e"
      },
      "execution_count": 6,
      "outputs": [
        {
          "output_type": "execute_result",
          "data": {
            "text/plain": [
              "array([ 35.467,  63.951,  80.94 ,  60.665, 127.061,  64.511, 318.523])"
            ]
          },
          "metadata": {},
          "execution_count": 6
        }
      ]
    },
    {
      "cell_type": "markdown",
      "source": [
        "# They're actually backed by numpy arrays:"
      ],
      "metadata": {
        "id": "G3R2J1HvNX6T"
      }
    },
    {
      "cell_type": "code",
      "source": [
        "type(g7_pop.values)"
      ],
      "metadata": {
        "colab": {
          "base_uri": "https://localhost:8080/"
        },
        "id": "_81motinNZJF",
        "outputId": "f9807f8e-c2c0-4dc5-aa3e-b61a8ce03bd6"
      },
      "execution_count": 7,
      "outputs": [
        {
          "output_type": "execute_result",
          "data": {
            "text/plain": [
              "numpy.ndarray"
            ]
          },
          "metadata": {},
          "execution_count": 7
        }
      ]
    },
    {
      "cell_type": "markdown",
      "source": [
        "# And they look like simple Python lists or Numpy Arrays. But they're actually more similar to Python dicts.\n",
        "\n",
        "A Series has an index, that's similar to the automatic index assigned to Python's lists:"
      ],
      "metadata": {
        "id": "jeIZFAssNflu"
      }
    },
    {
      "cell_type": "code",
      "source": [
        "g7_pop"
      ],
      "metadata": {
        "colab": {
          "base_uri": "https://localhost:8080/"
        },
        "id": "X2kZbGOcNhlR",
        "outputId": "b3007a1e-e6fa-44b9-cf17-7b84a67d49d6"
      },
      "execution_count": 8,
      "outputs": [
        {
          "output_type": "execute_result",
          "data": {
            "text/plain": [
              "0     35.467\n",
              "1     63.951\n",
              "2     80.940\n",
              "3     60.665\n",
              "4    127.061\n",
              "5     64.511\n",
              "6    318.523\n",
              "Name: G7 Population in millions, dtype: float64"
            ]
          },
          "metadata": {},
          "execution_count": 8
        }
      ]
    },
    {
      "cell_type": "code",
      "source": [
        "g7_pop[0]"
      ],
      "metadata": {
        "colab": {
          "base_uri": "https://localhost:8080/"
        },
        "id": "NPp6xCwzNmIx",
        "outputId": "d459979c-62c0-4777-c33e-29ea8971e09f"
      },
      "execution_count": 9,
      "outputs": [
        {
          "output_type": "execute_result",
          "data": {
            "text/plain": [
              "35.467"
            ]
          },
          "metadata": {},
          "execution_count": 9
        }
      ]
    },
    {
      "cell_type": "code",
      "source": [
        "g7_pop[1]"
      ],
      "metadata": {
        "colab": {
          "base_uri": "https://localhost:8080/"
        },
        "id": "-O5iSsDzNnPo",
        "outputId": "5c308909-3984-4dec-f314-e9cb62a55263"
      },
      "execution_count": 10,
      "outputs": [
        {
          "output_type": "execute_result",
          "data": {
            "text/plain": [
              "63.951"
            ]
          },
          "metadata": {},
          "execution_count": 10
        }
      ]
    },
    {
      "cell_type": "code",
      "source": [
        "g7_pop.index"
      ],
      "metadata": {
        "colab": {
          "base_uri": "https://localhost:8080/"
        },
        "id": "IKbgumAdNrZH",
        "outputId": "57a256a4-8098-4a13-b5b0-0f4a76181036"
      },
      "execution_count": 11,
      "outputs": [
        {
          "output_type": "execute_result",
          "data": {
            "text/plain": [
              "RangeIndex(start=0, stop=7, step=1)"
            ]
          },
          "metadata": {},
          "execution_count": 11
        }
      ]
    },
    {
      "cell_type": "code",
      "source": [
        "l = ['a', 'b', 'c']"
      ],
      "metadata": {
        "id": "Izgt7Q3CNtYe"
      },
      "execution_count": 12,
      "outputs": []
    },
    {
      "cell_type": "markdown",
      "source": [
        "# But, in contrast to lists, we can explicitly define the index:"
      ],
      "metadata": {
        "id": "AA5pWL3JNyeG"
      }
    },
    {
      "cell_type": "code",
      "source": [
        "g7_pop.index = [\n",
        "    'Canada',\n",
        "    'France',\n",
        "    'Germany',\n",
        "    'Italy',\n",
        "    'Japan',\n",
        "    'United Kingdom',\n",
        "    'United States',\n",
        "]"
      ],
      "metadata": {
        "id": "BYFhbd1eNzqX"
      },
      "execution_count": 13,
      "outputs": []
    },
    {
      "cell_type": "code",
      "source": [
        "g7_pop"
      ],
      "metadata": {
        "colab": {
          "base_uri": "https://localhost:8080/"
        },
        "id": "vj_e2U_4N5eU",
        "outputId": "5dec3a34-1c4b-43c1-c3c2-697232a69676"
      },
      "execution_count": 14,
      "outputs": [
        {
          "output_type": "execute_result",
          "data": {
            "text/plain": [
              "Canada             35.467\n",
              "France             63.951\n",
              "Germany            80.940\n",
              "Italy              60.665\n",
              "Japan             127.061\n",
              "United Kingdom     64.511\n",
              "United States     318.523\n",
              "Name: G7 Population in millions, dtype: float64"
            ]
          },
          "metadata": {},
          "execution_count": 14
        }
      ]
    },
    {
      "cell_type": "markdown",
      "source": [
        "# Compare it with the following table:\n",
        "![image.png](data:image/png;base64,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)\n",
        "# We can say that Series look like \"ordered dictionaries\". We can actually create Series out of dictionaries:"
      ],
      "metadata": {
        "id": "tURuSbs1N_nx"
      }
    },
    {
      "cell_type": "code",
      "source": [
        "pd.Series({\n",
        "    'Canada': 35.467,\n",
        "    'France': 63.951,\n",
        "    'Germany': 80.94,\n",
        "    'Italy': 60.665,\n",
        "    'Japan': 127.061,\n",
        "    'United Kingdom': 64.511,\n",
        "    'United States': 318.523\n",
        "}, name='G7 Population in millions')"
      ],
      "metadata": {
        "colab": {
          "base_uri": "https://localhost:8080/"
        },
        "id": "XBq66_QdN7A-",
        "outputId": "ccb5ff9e-0b2e-4503-fa51-0221bd080263"
      },
      "execution_count": 15,
      "outputs": [
        {
          "output_type": "execute_result",
          "data": {
            "text/plain": [
              "Canada             35.467\n",
              "France             63.951\n",
              "Germany            80.940\n",
              "Italy              60.665\n",
              "Japan             127.061\n",
              "United Kingdom     64.511\n",
              "United States     318.523\n",
              "Name: G7 Population in millions, dtype: float64"
            ]
          },
          "metadata": {},
          "execution_count": 15
        }
      ]
    },
    {
      "cell_type": "code",
      "source": [
        "pd.Series(\n",
        "    [35.467, 63.951, 80.94, 60.665, 127.061, 64.511, 318.523],\n",
        "    index=['Canada', 'France', 'Germany', 'Italy', 'Japan', 'United Kingdom',\n",
        "       'United States'],\n",
        "    name='G7 Population in millions')"
      ],
      "metadata": {
        "colab": {
          "base_uri": "https://localhost:8080/"
        },
        "id": "PVauDyb2OPfX",
        "outputId": "386508a0-0a9f-45b7-d94b-d93ca1b1b7bb"
      },
      "execution_count": 16,
      "outputs": [
        {
          "output_type": "execute_result",
          "data": {
            "text/plain": [
              "Canada             35.467\n",
              "France             63.951\n",
              "Germany            80.940\n",
              "Italy              60.665\n",
              "Japan             127.061\n",
              "United Kingdom     64.511\n",
              "United States     318.523\n",
              "Name: G7 Population in millions, dtype: float64"
            ]
          },
          "metadata": {},
          "execution_count": 16
        }
      ]
    },
    {
      "cell_type": "markdown",
      "source": [
        "# You can also create Series out of other series, specifying indexes:"
      ],
      "metadata": {
        "id": "wt4bGtj-OVA1"
      }
    },
    {
      "cell_type": "code",
      "source": [
        "pd.Series(g7_pop, index=['France', 'Germany', 'Italy', 'Spain'])"
      ],
      "metadata": {
        "colab": {
          "base_uri": "https://localhost:8080/"
        },
        "id": "KvqJ3sskOWW2",
        "outputId": "96f27ea7-4f19-4321-810d-da9aad2dd2aa"
      },
      "execution_count": 17,
      "outputs": [
        {
          "output_type": "execute_result",
          "data": {
            "text/plain": [
              "France     63.951\n",
              "Germany    80.940\n",
              "Italy      60.665\n",
              "Spain         NaN\n",
              "Name: G7 Population in millions, dtype: float64"
            ]
          },
          "metadata": {},
          "execution_count": 17
        }
      ]
    },
    {
      "cell_type": "markdown",
      "source": [
        "# Indexing\n",
        "Indexing works similarly to lists and dictionaries, you use the index of the element you're looking for:"
      ],
      "metadata": {
        "id": "xAjX8peRObpD"
      }
    },
    {
      "cell_type": "code",
      "source": [
        "g7_pop"
      ],
      "metadata": {
        "colab": {
          "base_uri": "https://localhost:8080/"
        },
        "id": "JNKp7lN1OeWH",
        "outputId": "0b511931-d54a-4f26-de8a-8017dc06e6e5"
      },
      "execution_count": 18,
      "outputs": [
        {
          "output_type": "execute_result",
          "data": {
            "text/plain": [
              "Canada             35.467\n",
              "France             63.951\n",
              "Germany            80.940\n",
              "Italy              60.665\n",
              "Japan             127.061\n",
              "United Kingdom     64.511\n",
              "United States     318.523\n",
              "Name: G7 Population in millions, dtype: float64"
            ]
          },
          "metadata": {},
          "execution_count": 18
        }
      ]
    },
    {
      "cell_type": "code",
      "source": [
        "g7_pop['Canada']"
      ],
      "metadata": {
        "colab": {
          "base_uri": "https://localhost:8080/"
        },
        "id": "9Z1uikQ7Ojo4",
        "outputId": "3bcc010d-a91e-44e2-acb9-7d79ace0ad1b"
      },
      "execution_count": 19,
      "outputs": [
        {
          "output_type": "execute_result",
          "data": {
            "text/plain": [
              "35.467"
            ]
          },
          "metadata": {},
          "execution_count": 19
        }
      ]
    },
    {
      "cell_type": "code",
      "source": [
        "g7_pop['Japan']"
      ],
      "metadata": {
        "colab": {
          "base_uri": "https://localhost:8080/"
        },
        "id": "e9kRV2E2OnKm",
        "outputId": "12d5f0e3-2ca2-4b3b-cf17-46b1f5309e8a"
      },
      "execution_count": 20,
      "outputs": [
        {
          "output_type": "execute_result",
          "data": {
            "text/plain": [
              "127.061"
            ]
          },
          "metadata": {},
          "execution_count": 20
        }
      ]
    },
    {
      "cell_type": "markdown",
      "source": [
        "# Numeric positions can also be used, with the iloc attribute:"
      ],
      "metadata": {
        "id": "DnEZVmwPOqmO"
      }
    },
    {
      "cell_type": "code",
      "source": [
        "g7_pop.iloc[0]"
      ],
      "metadata": {
        "colab": {
          "base_uri": "https://localhost:8080/"
        },
        "id": "5_LeweiwOsV_",
        "outputId": "9fcc1fe2-4651-4f50-ac5c-e7faa09161e8"
      },
      "execution_count": 21,
      "outputs": [
        {
          "output_type": "execute_result",
          "data": {
            "text/plain": [
              "35.467"
            ]
          },
          "metadata": {},
          "execution_count": 21
        }
      ]
    },
    {
      "cell_type": "code",
      "source": [
        "g7_pop.iloc[-1]"
      ],
      "metadata": {
        "colab": {
          "base_uri": "https://localhost:8080/"
        },
        "id": "Nm5kvWxJOvUF",
        "outputId": "75c92514-868a-4a95-fa94-5e27a2f6ac8b"
      },
      "execution_count": 22,
      "outputs": [
        {
          "output_type": "execute_result",
          "data": {
            "text/plain": [
              "318.523"
            ]
          },
          "metadata": {},
          "execution_count": 22
        }
      ]
    },
    {
      "cell_type": "markdown",
      "source": [
        "# Selecting multiple elements at once:"
      ],
      "metadata": {
        "id": "kjGeeKg6PZw3"
      }
    },
    {
      "cell_type": "code",
      "source": [
        "g7_pop[['Italy', 'France']]"
      ],
      "metadata": {
        "colab": {
          "base_uri": "https://localhost:8080/"
        },
        "id": "_OSlkQlEPas7",
        "outputId": "8b720b85-6d80-4fbd-e5ac-bf9273f6a11c"
      },
      "execution_count": 23,
      "outputs": [
        {
          "output_type": "execute_result",
          "data": {
            "text/plain": [
              "Italy     60.665\n",
              "France    63.951\n",
              "Name: G7 Population in millions, dtype: float64"
            ]
          },
          "metadata": {},
          "execution_count": 23
        }
      ]
    },
    {
      "cell_type": "markdown",
      "source": [
        "(The result is another Series)"
      ],
      "metadata": {
        "id": "sQ4rwciRPfYT"
      }
    },
    {
      "cell_type": "code",
      "source": [
        "g7_pop.iloc[[0, 1]]"
      ],
      "metadata": {
        "colab": {
          "base_uri": "https://localhost:8080/"
        },
        "id": "1V6wfolCPhU-",
        "outputId": "ccffeed4-30ef-4dc7-e730-dfa530b817ef"
      },
      "execution_count": 24,
      "outputs": [
        {
          "output_type": "execute_result",
          "data": {
            "text/plain": [
              "Canada    35.467\n",
              "France    63.951\n",
              "Name: G7 Population in millions, dtype: float64"
            ]
          },
          "metadata": {},
          "execution_count": 24
        }
      ]
    },
    {
      "cell_type": "markdown",
      "source": [
        "# Slicing also works, but important, in Pandas, the upper limit is also included:"
      ],
      "metadata": {
        "id": "kPzRXmc1PmuW"
      }
    },
    {
      "cell_type": "code",
      "source": [
        "g7_pop['Canada': 'Italy']"
      ],
      "metadata": {
        "colab": {
          "base_uri": "https://localhost:8080/"
        },
        "id": "OtSlK8rNPo3I",
        "outputId": "5accf39e-6d12-4edc-b684-5b417375efbf"
      },
      "execution_count": 25,
      "outputs": [
        {
          "output_type": "execute_result",
          "data": {
            "text/plain": [
              "Canada     35.467\n",
              "France     63.951\n",
              "Germany    80.940\n",
              "Italy      60.665\n",
              "Name: G7 Population in millions, dtype: float64"
            ]
          },
          "metadata": {},
          "execution_count": 25
        }
      ]
    },
    {
      "cell_type": "markdown",
      "source": [
        "# Conditional selection (boolean arrays)\n",
        "The same boolean array techniques we saw applied to numpy arrays can be used for Pandas Series:"
      ],
      "metadata": {
        "id": "QH3HOd8wPuge"
      }
    },
    {
      "cell_type": "code",
      "source": [
        "g7_pop"
      ],
      "metadata": {
        "colab": {
          "base_uri": "https://localhost:8080/"
        },
        "id": "ctWMbRQePvmS",
        "outputId": "6a67d6dd-ef92-4a2e-ff82-484dc01f2631"
      },
      "execution_count": 26,
      "outputs": [
        {
          "output_type": "execute_result",
          "data": {
            "text/plain": [
              "Canada             35.467\n",
              "France             63.951\n",
              "Germany            80.940\n",
              "Italy              60.665\n",
              "Japan             127.061\n",
              "United Kingdom     64.511\n",
              "United States     318.523\n",
              "Name: G7 Population in millions, dtype: float64"
            ]
          },
          "metadata": {},
          "execution_count": 26
        }
      ]
    },
    {
      "cell_type": "code",
      "source": [
        "g7_pop > 70"
      ],
      "metadata": {
        "colab": {
          "base_uri": "https://localhost:8080/"
        },
        "id": "4jkz8rXPP1E1",
        "outputId": "2847d652-ea75-459a-aa51-ddf37b9e0516"
      },
      "execution_count": 27,
      "outputs": [
        {
          "output_type": "execute_result",
          "data": {
            "text/plain": [
              "Canada            False\n",
              "France            False\n",
              "Germany            True\n",
              "Italy             False\n",
              "Japan              True\n",
              "United Kingdom    False\n",
              "United States      True\n",
              "Name: G7 Population in millions, dtype: bool"
            ]
          },
          "metadata": {},
          "execution_count": 27
        }
      ]
    },
    {
      "cell_type": "code",
      "source": [
        "g7_pop[g7_pop > 70]"
      ],
      "metadata": {
        "colab": {
          "base_uri": "https://localhost:8080/"
        },
        "id": "OCSbg_VCP7C9",
        "outputId": "054cc53d-d145-4cc0-fb83-09349ce603e8"
      },
      "execution_count": 28,
      "outputs": [
        {
          "output_type": "execute_result",
          "data": {
            "text/plain": [
              "Germany           80.940\n",
              "Japan            127.061\n",
              "United States    318.523\n",
              "Name: G7 Population in millions, dtype: float64"
            ]
          },
          "metadata": {},
          "execution_count": 28
        }
      ]
    },
    {
      "cell_type": "code",
      "source": [
        "g7_pop.mean()"
      ],
      "metadata": {
        "colab": {
          "base_uri": "https://localhost:8080/"
        },
        "id": "Oo2KvtP0P-8X",
        "outputId": "d01556d5-f0f9-4eb6-9802-05588ac8c50e"
      },
      "execution_count": 29,
      "outputs": [
        {
          "output_type": "execute_result",
          "data": {
            "text/plain": [
              "107.30257142857144"
            ]
          },
          "metadata": {},
          "execution_count": 29
        }
      ]
    },
    {
      "cell_type": "code",
      "source": [
        "g7_pop[g7_pop > g7_pop.mean()]"
      ],
      "metadata": {
        "colab": {
          "base_uri": "https://localhost:8080/"
        },
        "id": "amAfPwA0QCfo",
        "outputId": "416344cd-4ede-4e2d-be53-bedf35b29f86"
      },
      "execution_count": 30,
      "outputs": [
        {
          "output_type": "execute_result",
          "data": {
            "text/plain": [
              "Japan            127.061\n",
              "United States    318.523\n",
              "Name: G7 Population in millions, dtype: float64"
            ]
          },
          "metadata": {},
          "execution_count": 30
        }
      ]
    },
    {
      "cell_type": "code",
      "source": [
        "g7_pop.std()"
      ],
      "metadata": {
        "colab": {
          "base_uri": "https://localhost:8080/"
        },
        "id": "-Uogovs3QFcD",
        "outputId": "c8251890-2e91-4464-bf78-573d3c627ef5"
      },
      "execution_count": 31,
      "outputs": [
        {
          "output_type": "execute_result",
          "data": {
            "text/plain": [
              "97.24996987121581"
            ]
          },
          "metadata": {},
          "execution_count": 31
        }
      ]
    },
    {
      "cell_type": "markdown",
      "source": [
        "# Operations and methods\n",
        "Series also support vectorized operations and aggregation functions as Numpy:"
      ],
      "metadata": {
        "id": "t7Ve1BT1QWef"
      }
    },
    {
      "cell_type": "code",
      "source": [
        "g7_pop"
      ],
      "metadata": {
        "colab": {
          "base_uri": "https://localhost:8080/"
        },
        "id": "L1JF9ETXQZx7",
        "outputId": "bdf14651-d8ce-4bc6-fa4c-d1b38e948a5d"
      },
      "execution_count": 34,
      "outputs": [
        {
          "output_type": "execute_result",
          "data": {
            "text/plain": [
              "Canada             35.467\n",
              "France             63.951\n",
              "Germany            80.940\n",
              "Italy              60.665\n",
              "Japan             127.061\n",
              "United Kingdom     64.511\n",
              "United States     318.523\n",
              "Name: G7 Population in millions, dtype: float64"
            ]
          },
          "metadata": {},
          "execution_count": 34
        }
      ]
    },
    {
      "cell_type": "code",
      "source": [
        "g7_pop * 1_000_000"
      ],
      "metadata": {
        "colab": {
          "base_uri": "https://localhost:8080/"
        },
        "id": "k3DtPG5xQcL7",
        "outputId": "07fa15bb-c80d-453a-eb03-c74509afe336"
      },
      "execution_count": 35,
      "outputs": [
        {
          "output_type": "execute_result",
          "data": {
            "text/plain": [
              "Canada             35467000.0\n",
              "France             63951000.0\n",
              "Germany            80940000.0\n",
              "Italy              60665000.0\n",
              "Japan             127061000.0\n",
              "United Kingdom     64511000.0\n",
              "United States     318523000.0\n",
              "Name: G7 Population in millions, dtype: float64"
            ]
          },
          "metadata": {},
          "execution_count": 35
        }
      ]
    },
    {
      "cell_type": "code",
      "source": [
        "g7_pop.mean()"
      ],
      "metadata": {
        "colab": {
          "base_uri": "https://localhost:8080/"
        },
        "id": "r1Esyu7NQgYZ",
        "outputId": "d44c97ee-14dc-434b-f941-5bbb69e7cc22"
      },
      "execution_count": 36,
      "outputs": [
        {
          "output_type": "execute_result",
          "data": {
            "text/plain": [
              "107.30257142857144"
            ]
          },
          "metadata": {},
          "execution_count": 36
        }
      ]
    },
    {
      "cell_type": "code",
      "source": [
        "np.log(g7_pop)"
      ],
      "metadata": {
        "colab": {
          "base_uri": "https://localhost:8080/"
        },
        "id": "TvSeH3dsQjY2",
        "outputId": "674f64c6-7fe8-47f1-b0d0-bf717001c243"
      },
      "execution_count": 37,
      "outputs": [
        {
          "output_type": "execute_result",
          "data": {
            "text/plain": [
              "Canada            3.568603\n",
              "France            4.158117\n",
              "Germany           4.393708\n",
              "Italy             4.105367\n",
              "Japan             4.844667\n",
              "United Kingdom    4.166836\n",
              "United States     5.763695\n",
              "Name: G7 Population in millions, dtype: float64"
            ]
          },
          "metadata": {},
          "execution_count": 37
        }
      ]
    },
    {
      "cell_type": "code",
      "source": [
        "g7_pop['France': 'Italy'].mean()"
      ],
      "metadata": {
        "colab": {
          "base_uri": "https://localhost:8080/"
        },
        "id": "1RMkIUd2Qnhx",
        "outputId": "560f4756-4e58-417b-cc2e-d6e4d77efde2"
      },
      "execution_count": 38,
      "outputs": [
        {
          "output_type": "execute_result",
          "data": {
            "text/plain": [
              "68.51866666666666"
            ]
          },
          "metadata": {},
          "execution_count": 38
        }
      ]
    },
    {
      "cell_type": "markdown",
      "source": [
        "# Boolean arrays\n",
        "(Work in the same way as numpy)"
      ],
      "metadata": {
        "id": "Eyone42IQqy4"
      }
    },
    {
      "cell_type": "code",
      "source": [
        "g7_pop"
      ],
      "metadata": {
        "colab": {
          "base_uri": "https://localhost:8080/"
        },
        "id": "yWNcRKMkQrxR",
        "outputId": "1a37afa4-4f9e-42e7-ba20-da887b9911c5"
      },
      "execution_count": 39,
      "outputs": [
        {
          "output_type": "execute_result",
          "data": {
            "text/plain": [
              "Canada             35.467\n",
              "France             63.951\n",
              "Germany            80.940\n",
              "Italy              60.665\n",
              "Japan             127.061\n",
              "United Kingdom     64.511\n",
              "United States     318.523\n",
              "Name: G7 Population in millions, dtype: float64"
            ]
          },
          "metadata": {},
          "execution_count": 39
        }
      ]
    },
    {
      "cell_type": "code",
      "source": [
        "g7_pop > 80"
      ],
      "metadata": {
        "colab": {
          "base_uri": "https://localhost:8080/"
        },
        "id": "YGnCEHg7Qwpw",
        "outputId": "44fbcd07-b088-4f70-f8c6-abc50a5cbdf6"
      },
      "execution_count": 40,
      "outputs": [
        {
          "output_type": "execute_result",
          "data": {
            "text/plain": [
              "Canada            False\n",
              "France            False\n",
              "Germany            True\n",
              "Italy             False\n",
              "Japan              True\n",
              "United Kingdom    False\n",
              "United States      True\n",
              "Name: G7 Population in millions, dtype: bool"
            ]
          },
          "metadata": {},
          "execution_count": 40
        }
      ]
    },
    {
      "cell_type": "code",
      "source": [
        "g7_pop[g7_pop > 80]"
      ],
      "metadata": {
        "colab": {
          "base_uri": "https://localhost:8080/"
        },
        "id": "imp3zuzkQ0A7",
        "outputId": "1daccf1b-bcbf-4a74-a7d9-34df97f98270"
      },
      "execution_count": 41,
      "outputs": [
        {
          "output_type": "execute_result",
          "data": {
            "text/plain": [
              "Germany           80.940\n",
              "Japan            127.061\n",
              "United States    318.523\n",
              "Name: G7 Population in millions, dtype: float64"
            ]
          },
          "metadata": {},
          "execution_count": 41
        }
      ]
    },
    {
      "cell_type": "code",
      "source": [
        "g7_pop[(g7_pop > 80) | (g7_pop < 40)]"
      ],
      "metadata": {
        "colab": {
          "base_uri": "https://localhost:8080/"
        },
        "id": "EsT6kEfUQ2qL",
        "outputId": "af5e4778-95de-45c1-a895-bd455cfc032a"
      },
      "execution_count": 42,
      "outputs": [
        {
          "output_type": "execute_result",
          "data": {
            "text/plain": [
              "Canada            35.467\n",
              "Germany           80.940\n",
              "Japan            127.061\n",
              "United States    318.523\n",
              "Name: G7 Population in millions, dtype: float64"
            ]
          },
          "metadata": {},
          "execution_count": 42
        }
      ]
    },
    {
      "cell_type": "code",
      "source": [
        "g7_pop[(g7_pop > 80) & (g7_pop < 200)]"
      ],
      "metadata": {
        "colab": {
          "base_uri": "https://localhost:8080/"
        },
        "id": "NVSz_r9RQ5_0",
        "outputId": "11b0e179-80d1-465d-ff1e-80d51d38d591"
      },
      "execution_count": 43,
      "outputs": [
        {
          "output_type": "execute_result",
          "data": {
            "text/plain": [
              "Germany     80.940\n",
              "Japan      127.061\n",
              "Name: G7 Population in millions, dtype: float64"
            ]
          },
          "metadata": {},
          "execution_count": 43
        }
      ]
    },
    {
      "cell_type": "markdown",
      "source": [
        "# Modifying series"
      ],
      "metadata": {
        "id": "2V-SD13SQ8di"
      }
    },
    {
      "cell_type": "code",
      "source": [
        "g7_pop['Canada'] = 40.5\n",
        "g7_pop"
      ],
      "metadata": {
        "colab": {
          "base_uri": "https://localhost:8080/"
        },
        "id": "cYX4ncSZQ9ZM",
        "outputId": "8f4ff595-d6da-4a1f-ea15-3d67d8a83ed5"
      },
      "execution_count": 44,
      "outputs": [
        {
          "output_type": "execute_result",
          "data": {
            "text/plain": [
              "Canada             40.500\n",
              "France             63.951\n",
              "Germany            80.940\n",
              "Italy              60.665\n",
              "Japan             127.061\n",
              "United Kingdom     64.511\n",
              "United States     318.523\n",
              "Name: G7 Population in millions, dtype: float64"
            ]
          },
          "metadata": {},
          "execution_count": 44
        }
      ]
    },
    {
      "cell_type": "code",
      "source": [
        "g7_pop.iloc[-1] = 500\n",
        "g7_pop"
      ],
      "metadata": {
        "id": "BmL6VJmCRC8T",
        "outputId": "bd0970de-bebf-40b2-bf41-b9a5e4d13f68",
        "colab": {
          "base_uri": "https://localhost:8080/"
        }
      },
      "execution_count": 45,
      "outputs": [
        {
          "output_type": "execute_result",
          "data": {
            "text/plain": [
              "Canada             40.500\n",
              "France             63.951\n",
              "Germany            80.940\n",
              "Italy              60.665\n",
              "Japan             127.061\n",
              "United Kingdom     64.511\n",
              "United States     500.000\n",
              "Name: G7 Population in millions, dtype: float64"
            ]
          },
          "metadata": {},
          "execution_count": 45
        }
      ]
    },
    {
      "cell_type": "code",
      "source": [
        "g7_pop[g7_pop < 70] = 99.99\n",
        "g7_pop"
      ],
      "metadata": {
        "id": "veEfJSHYRFsx",
        "outputId": "1bdcb4e7-5efe-491d-f586-720f15a6b11a",
        "colab": {
          "base_uri": "https://localhost:8080/"
        }
      },
      "execution_count": 46,
      "outputs": [
        {
          "output_type": "execute_result",
          "data": {
            "text/plain": [
              "Canada             99.990\n",
              "France             99.990\n",
              "Germany            80.940\n",
              "Italy              99.990\n",
              "Japan             127.061\n",
              "United Kingdom     99.990\n",
              "United States     500.000\n",
              "Name: G7 Population in millions, dtype: float64"
            ]
          },
          "metadata": {},
          "execution_count": 46
        }
      ]
    }
  ]
}